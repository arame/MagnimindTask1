{
 "cells": [
  {
   "cell_type": "markdown",
   "metadata": {},
   "source": [
    "The dataset contains real estate sales records in NYC.\n",
    "The following code performs an exploratory analysis on this dataset."
   ]
  },
  {
   "cell_type": "code",
   "execution_count": null,
   "metadata": {},
   "outputs": [
    {
     "ename": "",
     "evalue": "",
     "output_type": "error",
     "traceback": [
      "\u001b[1;31mRunning cells with 'Python 3.7.5 64-bit' requires ipykernel package.\n",
      "\u001b[1;31mRun the following command to install 'ipykernel' into the Python environment. \n",
      "\u001b[1;31mCommand: '\"c:/Program Files (x86)/Microsoft Visual Studio/Shared/Python37_64/python.exe\" -m pip install ipykernel -U --user --force-reinstall'"
     ]
    }
   ],
   "source": [
    "import pandas as pd\n",
    "import numpy as np\n",
    "import seaborn as sns\n",
    "import sklearn \n",
    "import matplotlib.pyplot as plt\n",
    "from cleaner import Clean\n",
    "%matplotlib inline"
   ]
  },
  {
   "cell_type": "markdown",
   "metadata": {},
   "source": [
    "Obtain the data and start the data cleaning by set the columns with nullable integers to that data type."
   ]
  },
  {
   "cell_type": "code",
   "execution_count": null,
   "metadata": {},
   "outputs": [
    {
     "ename": "",
     "evalue": "",
     "output_type": "error",
     "traceback": [
      "\u001b[1;31mRunning cells with 'Python 3.7.5 64-bit' requires ipykernel package.\n",
      "\u001b[1;31mRun the following command to install 'ipykernel' into the Python environment. \n",
      "\u001b[1;31mCommand: '\"c:/Program Files (x86)/Microsoft Visual Studio/Shared/Python37_64/python.exe\" -m pip install ipykernel -U --user --force-reinstall'"
     ]
    }
   ],
   "source": [
    "\n",
    "file_path = \"Files\\\\\"\n",
    "dataset_name = \"nyc-rolling-sales.csv\"\n",
    "path = file_path + dataset_name\n",
    "df_housing = pd.read_csv(path, header=0)\n",
    "clean = Clean(df_housing)\n",
    "#clean.df_housing.head()\n",
    "clean.convert_objects_to_integers([\"SALE PRICE\", \"LAND SQUARE FEET\", \"GROSS SQUARE FEET\"])\n",
    "clean.df_housing.head()\n"
   ]
  },
  {
   "cell_type": "code",
   "execution_count": null,
   "metadata": {},
   "outputs": [
    {
     "ename": "",
     "evalue": "",
     "output_type": "error",
     "traceback": [
      "\u001b[1;31mRunning cells with 'Python 3.7.5 64-bit' requires ipykernel package.\n",
      "\u001b[1;31mRun the following command to install 'ipykernel' into the Python environment. \n",
      "\u001b[1;31mCommand: '\"c:/Program Files (x86)/Microsoft Visual Studio/Shared/Python37_64/python.exe\" -m pip install ipykernel -U --user --force-reinstall'"
     ]
    }
   ],
   "source": [
    "# convert the sales price column from text to a nullable integer\n",
    "#column_names_to_reformat = [\"SALE PRICE\", \"LAND SQUARE FEET\", \"GROSS SQUARE FEET\"]\n",
    "#for name in column_names_to_reformat:\n",
    "    #df_housing[name] = df_housing[name].str.strip().replace('-', pd.NA).astype('Int64')\n",
    "clean.convert_objects_to_integers([\"SALE PRICE\", \"LAND SQUARE FEET\", \"GROSS SQUARE FEET\"])\n",
    "clean.df_housing.head()"
   ]
  },
  {
   "cell_type": "markdown",
   "metadata": {},
   "source": [
    "Clean and filter the dataset\n",
    "An explanation for each data column can be found on the NYC website: https://www.nyc.gov/site/finance/taxes/\n",
    "\n",
    "Remove unnecessary columns"
   ]
  },
  {
   "cell_type": "code",
   "execution_count": null,
   "metadata": {},
   "outputs": [
    {
     "ename": "",
     "evalue": "",
     "output_type": "error",
     "traceback": [
      "\u001b[1;31mRunning cells with 'Python 3.7.5 64-bit' requires ipykernel package.\n",
      "\u001b[1;31mRun the following command to install 'ipykernel' into the Python environment. \n",
      "\u001b[1;31mCommand: '\"c:/Program Files (x86)/Microsoft Visual Studio/Shared/Python37_64/python.exe\" -m pip install ipykernel -U --user --force-reinstall'"
     ]
    }
   ],
   "source": [
    "df_housing.drop(['Unnamed: 0', 'LOT', 'EASE-MENT','APARTMENT NUMBER', 'ADDRESS','ZIP CODE'], axis=1, inplace=True)\n",
    "df_housing.head()"
   ]
  },
  {
   "cell_type": "markdown",
   "metadata": {},
   "source": [
    "Remove duplicate rows"
   ]
  },
  {
   "cell_type": "code",
   "execution_count": null,
   "metadata": {},
   "outputs": [
    {
     "ename": "",
     "evalue": "",
     "output_type": "error",
     "traceback": [
      "\u001b[1;31mRunning cells with 'Python 3.7.5 64-bit' requires ipykernel package.\n",
      "\u001b[1;31mRun the following command to install 'ipykernel' into the Python environment. \n",
      "\u001b[1;31mCommand: '\"c:/Program Files (x86)/Microsoft Visual Studio/Shared/Python37_64/python.exe\" -m pip install ipykernel -U --user --force-reinstall'"
     ]
    }
   ],
   "source": [
    "no_duplicates = sum(df_housing.duplicated())\n",
    "df_housing.drop_duplicates(inplace=True)\n",
    "print(f\"{no_duplicates} duplicate rows have been removed\")"
   ]
  },
  {
   "cell_type": "markdown",
   "metadata": {},
   "source": [
    "If we have null values for Sales Price, then since this is the value we are measuring against,\n",
    "then it will be better to remove these rows."
   ]
  },
  {
   "cell_type": "code",
   "execution_count": null,
   "metadata": {},
   "outputs": [
    {
     "ename": "",
     "evalue": "",
     "output_type": "error",
     "traceback": [
      "\u001b[1;31mRunning cells with 'Python 3.7.5 64-bit' requires ipykernel package.\n",
      "\u001b[1;31mRun the following command to install 'ipykernel' into the Python environment. \n",
      "\u001b[1;31mCommand: '\"c:/Program Files (x86)/Microsoft Visual Studio/Shared/Python37_64/python.exe\" -m pip install ipykernel -U --user --force-reinstall'"
     ]
    }
   ],
   "source": [
    "orig_no_rows = len(df_housing)\n",
    "df_housing.dropna(inplace=True)\n",
    "curr_no_rows = len(df_housing)\n",
    "rows_deleted = orig_no_rows - curr_no_rows\n",
    "percentage = (rows_deleted / orig_no_rows) * 100\n",
    "print(f\"There were {orig_no_rows} rows. After deleting {round(percentage, 2)}% of them with no Sales Price values there are now {curr_no_rows}\")"
   ]
  },
  {
   "cell_type": "markdown",
   "metadata": {},
   "source": [
    "An explanation for each data column can be found on the NYC website: https://www.nyc.gov/site/finance/taxes/\n",
    "From the website;\n",
    "\n",
    " ```python\n",
    "A $0 sale indicates that there was a transfer of ownership without a cash consideration. There can be a number of reasons for a $0 sale including transfers of ownership from parents to children.\n",
    "```\n",
    "\n",
    "We need to remove these sales entries as well as this is a special case that does not indicate the sales price of the property"
   ]
  },
  {
   "cell_type": "code",
   "execution_count": null,
   "metadata": {},
   "outputs": [
    {
     "ename": "",
     "evalue": "",
     "output_type": "error",
     "traceback": [
      "\u001b[1;31mRunning cells with 'Python 3.7.5 64-bit' requires ipykernel package.\n",
      "\u001b[1;31mRun the following command to install 'ipykernel' into the Python environment. \n",
      "\u001b[1;31mCommand: '\"c:/Program Files (x86)/Microsoft Visual Studio/Shared/Python37_64/python.exe\" -m pip install ipykernel -U --user --force-reinstall'"
     ]
    }
   ],
   "source": [
    "df_housing =df_housing[df_housing['SALE PRICE'] !=0]\n",
    "curr_no_rows = len(df_housing)\n",
    "rows_deleted1 = orig_no_rows - (curr_no_rows + rows_deleted)\n",
    "percentage = (rows_deleted1 / orig_no_rows) * 100\n",
    "print(f\"There were originally {orig_no_rows} rows. After deleting {round(percentage, 2)}% of them with ZERO Sales Price values there are now {curr_no_rows}\")\n",
    "print(\"Now delete outliers in other fields\")\n",
    "df_housing = df_housing[df_housing['YEAR BUILT']!=0]\n"
   ]
  },
  {
   "cell_type": "markdown",
   "metadata": {},
   "source": [
    "Create a column to rescale the Sales Price to millions to improve the visual representation of Sales Price\n",
    "Create a new Borough names column that maps onto the borough number.\n",
    "Convert the Sales Date field into a date field and create a new Sale Month column"
   ]
  },
  {
   "cell_type": "code",
   "execution_count": null,
   "metadata": {},
   "outputs": [
    {
     "ename": "",
     "evalue": "",
     "output_type": "error",
     "traceback": [
      "\u001b[1;31mRunning cells with 'Python 3.7.5 64-bit' requires ipykernel package.\n",
      "\u001b[1;31mRun the following command to install 'ipykernel' into the Python environment. \n",
      "\u001b[1;31mCommand: '\"c:/Program Files (x86)/Microsoft Visual Studio/Shared/Python37_64/python.exe\" -m pip install ipykernel -U --user --force-reinstall'"
     ]
    }
   ],
   "source": [
    "df_housing['SALE_PRICE_MILLIONS'] = df_housing['SALE PRICE'].astype(np.float64) / 1000000\n",
    "borough_names = {1:'Manhattan',2:'Bronx',3:'Brooklyn',4:'Queens',5:'Staten Island'}\n",
    "df_housing['BOROUGH_NAME'] = df_housing['BOROUGH'].map(borough_names)\n",
    "df_housing['SALE DATE'] = pd.to_datetime(df_housing['SALE DATE'])\n",
    "df_housing['SALE_MONTH']= df_housing['SALE DATE'].dt.month\n",
    "#create a new column for age of the unit\n",
    "df_housing['AGE'] = 2022 - df_housing['YEAR BUILT']\n",
    "df_housing.head()"
   ]
  },
  {
   "cell_type": "code",
   "execution_count": null,
   "metadata": {},
   "outputs": [
    {
     "ename": "",
     "evalue": "",
     "output_type": "error",
     "traceback": [
      "\u001b[1;31mRunning cells with 'Python 3.7.5 64-bit' requires ipykernel package.\n",
      "\u001b[1;31mRun the following command to install 'ipykernel' into the Python environment. \n",
      "\u001b[1;31mCommand: '\"c:/Program Files (x86)/Microsoft Visual Studio/Shared/Python37_64/python.exe\" -m pip install ipykernel -U --user --force-reinstall'"
     ]
    }
   ],
   "source": [
    "obj_categories = ['NEIGHBORHOOD', 'BUILDING CLASS CATEGORY', 'TAX CLASS AT PRESENT',\n",
    "       'BUILDING CLASS AT PRESENT', 'BUILDING CLASS AT TIME OF SALE', \"BOROUGH_NAME\"]\n",
    "for colname in obj_categories:\n",
    "    df_housing[colname] = df_housing[colname].astype('category')\n",
    "    \n",
    "num_categories = ['BOROUGH', 'BLOCK', 'TAX CLASS AT TIME OF SALE']\n",
    "for colname in num_categories:\n",
    "    df_housing[colname] = df_housing[colname].astype('category')\n",
    "df_housing.info()    \n",
    "df_housing.describe().apply(lambda s: s.apply('{0:.5f}'.format)).transpose()"
   ]
  },
  {
   "cell_type": "markdown",
   "metadata": {},
   "source": [
    "Now the data is ready for EDA. Some of the data is categorical and some of data is continuous.\n",
    "\n",
    "Lets look at the age of the property and the sales price"
   ]
  },
  {
   "cell_type": "code",
   "execution_count": null,
   "metadata": {},
   "outputs": [
    {
     "ename": "",
     "evalue": "",
     "output_type": "error",
     "traceback": [
      "\u001b[1;31mRunning cells with 'Python 3.7.5 64-bit' requires ipykernel package.\n",
      "\u001b[1;31mRun the following command to install 'ipykernel' into the Python environment. \n",
      "\u001b[1;31mCommand: '\"c:/Program Files (x86)/Microsoft Visual Studio/Shared/Python37_64/python.exe\" -m pip install ipykernel -U --user --force-reinstall'"
     ]
    }
   ],
   "source": [
    "sns.scatterplot(data=df_housing, x=\"AGE\", y=\"SALE PRICE\")\n"
   ]
  },
  {
   "cell_type": "markdown",
   "metadata": {},
   "source": [
    "Some of the high outlier prices of over 0.5 Billion dollars look unreliastic.\n",
    "So lets remove those outliers and try again"
   ]
  },
  {
   "cell_type": "code",
   "execution_count": null,
   "metadata": {},
   "outputs": [
    {
     "ename": "",
     "evalue": "",
     "output_type": "error",
     "traceback": [
      "\u001b[1;31mRunning cells with 'Python 3.7.5 64-bit' requires ipykernel package.\n",
      "\u001b[1;31mRun the following command to install 'ipykernel' into the Python environment. \n",
      "\u001b[1;31mCommand: '\"c:/Program Files (x86)/Microsoft Visual Studio/Shared/Python37_64/python.exe\" -m pip install ipykernel -U --user --force-reinstall'"
     ]
    }
   ],
   "source": [
    "df_housing = df_housing[df_housing['SALE PRICE'] <500000000] \n",
    "sns.scatterplot(data=df_housing, x=\"AGE\", y=\"SALE PRICE\")"
   ]
  }
 ],
 "metadata": {
  "kernelspec": {
   "display_name": "Python 3.7.5 64-bit",
   "language": "python",
   "name": "python3"
  },
  "language_info": {
   "codemirror_mode": {
    "name": "ipython",
    "version": 3
   },
   "file_extension": ".py",
   "mimetype": "text/x-python",
   "name": "python",
   "nbconvert_exporter": "python",
   "pygments_lexer": "ipython3",
   "version": "3.7.5"
  },
  "vscode": {
   "interpreter": {
    "hash": "0a54084e6b208ee8d1ce3989ffc20924477a5f55f5a43e22e699a6741623861e"
   }
  }
 },
 "nbformat": 4,
 "nbformat_minor": 2
}
