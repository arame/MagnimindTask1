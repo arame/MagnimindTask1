{
 "cells": [
  {
   "cell_type": "markdown",
   "metadata": {},
   "source": [
    "The code needs to be executed in the following order\n",
    "1. Task1_clean.ipynb\n",
    "2. Task1_eda.ipynb\n",
    "3. Task1_clean_pt2.ipynb\n",
    "4. Task1_backward_elimination.ipynb\n",
    "5. **Task1_model.ipynb**"
   ]
  },
  {
   "cell_type": "markdown",
   "metadata": {},
   "source": [
    "The EDA and Backward elimination has helped us find the optimal columns for regression training\n",
    "Now we need to find out what results the machine learning algorithm will give\n",
    "Here we try XGBoost."
   ]
  },
  {
   "cell_type": "code",
   "execution_count": 28,
   "metadata": {},
   "outputs": [],
   "source": [
    "import pandas as pd\n",
    "import numpy as np\n",
    "import seaborn as sns\n",
    "from sklearn.model_selection import train_test_split\n",
    "from sklearn.metrics import mean_squared_error as MSE\n",
    "import matplotlib.pyplot as plt\n",
    "import xgboost as xg\n",
    "from pathlib import Path\n",
    "from openFile import OpenCleanFile"
   ]
  },
  {
   "cell_type": "code",
   "execution_count": 29,
   "metadata": {},
   "outputs": [
    {
     "data": {
      "text/html": [
       "<div>\n",
       "<style scoped>\n",
       "    .dataframe tbody tr th:only-of-type {\n",
       "        vertical-align: middle;\n",
       "    }\n",
       "\n",
       "    .dataframe tbody tr th {\n",
       "        vertical-align: top;\n",
       "    }\n",
       "\n",
       "    .dataframe thead th {\n",
       "        text-align: right;\n",
       "    }\n",
       "</style>\n",
       "<table border=\"1\" class=\"dataframe\">\n",
       "  <thead>\n",
       "    <tr style=\"text-align: right;\">\n",
       "      <th></th>\n",
       "      <th>RESIDENTIAL UNITS</th>\n",
       "      <th>TOTAL UNITS</th>\n",
       "      <th>LAND SQUARE FEET</th>\n",
       "      <th>GROSS SQUARE FEET</th>\n",
       "      <th>TAX CLASS AT PRESENT</th>\n",
       "      <th>TAX CLASS AT TIME OF SALE</th>\n",
       "      <th>BOROUGH_NAME</th>\n",
       "    </tr>\n",
       "  </thead>\n",
       "  <tbody>\n",
       "    <tr>\n",
       "      <th>0</th>\n",
       "      <td>5</td>\n",
       "      <td>5</td>\n",
       "      <td>1633</td>\n",
       "      <td>6440</td>\n",
       "      <td>2A</td>\n",
       "      <td>2</td>\n",
       "      <td>Manhattan</td>\n",
       "    </tr>\n",
       "    <tr>\n",
       "      <th>1</th>\n",
       "      <td>10</td>\n",
       "      <td>10</td>\n",
       "      <td>2272</td>\n",
       "      <td>6794</td>\n",
       "      <td>2B</td>\n",
       "      <td>2</td>\n",
       "      <td>Manhattan</td>\n",
       "    </tr>\n",
       "    <tr>\n",
       "      <th>2</th>\n",
       "      <td>6</td>\n",
       "      <td>6</td>\n",
       "      <td>2369</td>\n",
       "      <td>4615</td>\n",
       "      <td>2A</td>\n",
       "      <td>2</td>\n",
       "      <td>Manhattan</td>\n",
       "    </tr>\n",
       "    <tr>\n",
       "      <th>3</th>\n",
       "      <td>8</td>\n",
       "      <td>8</td>\n",
       "      <td>1750</td>\n",
       "      <td>4226</td>\n",
       "      <td>2B</td>\n",
       "      <td>2</td>\n",
       "      <td>Manhattan</td>\n",
       "    </tr>\n",
       "    <tr>\n",
       "      <th>4</th>\n",
       "      <td>24</td>\n",
       "      <td>24</td>\n",
       "      <td>4489</td>\n",
       "      <td>18523</td>\n",
       "      <td>2</td>\n",
       "      <td>2</td>\n",
       "      <td>Manhattan</td>\n",
       "    </tr>\n",
       "  </tbody>\n",
       "</table>\n",
       "</div>"
      ],
      "text/plain": [
       "   RESIDENTIAL UNITS  TOTAL UNITS  LAND SQUARE FEET  GROSS SQUARE FEET  \\\n",
       "0                  5            5              1633               6440   \n",
       "1                 10           10              2272               6794   \n",
       "2                  6            6              2369               4615   \n",
       "3                  8            8              1750               4226   \n",
       "4                 24           24              4489              18523   \n",
       "\n",
       "  TAX CLASS AT PRESENT TAX CLASS AT TIME OF SALE BOROUGH_NAME  \n",
       "0                   2A                         2    Manhattan  \n",
       "1                   2B                         2    Manhattan  \n",
       "2                   2A                         2    Manhattan  \n",
       "3                   2B                         2    Manhattan  \n",
       "4                    2                         2    Manhattan  "
      ]
     },
     "execution_count": 29,
     "metadata": {},
     "output_type": "execute_result"
    }
   ],
   "source": [
    "clean = OpenCleanFile()\n",
    "clean.df_housing.head()\n",
    "selected_columns = ['RESIDENTIAL UNITS', 'TOTAL UNITS', 'LAND SQUARE FEET', 'GROSS SQUARE FEET', \n",
    "'TAX CLASS AT PRESENT', 'TAX CLASS AT TIME OF SALE', 'BOROUGH_NAME']  \n",
    "X, y = clean.df_housing[selected_columns], clean.df_housing[\"SALE PRICE\"]\n",
    "X.head()  \n"
   ]
  },
  {
   "cell_type": "markdown",
   "metadata": {},
   "source": [
    "Turn the category columns into one-hot encoded columns per category and then select from those columns\n",
    "the ones that were calculated from the backward elimination process"
   ]
  },
  {
   "cell_type": "code",
   "execution_count": 30,
   "metadata": {},
   "outputs": [
    {
     "data": {
      "text/html": [
       "<div>\n",
       "<style scoped>\n",
       "    .dataframe tbody tr th:only-of-type {\n",
       "        vertical-align: middle;\n",
       "    }\n",
       "\n",
       "    .dataframe tbody tr th {\n",
       "        vertical-align: top;\n",
       "    }\n",
       "\n",
       "    .dataframe thead th {\n",
       "        text-align: right;\n",
       "    }\n",
       "</style>\n",
       "<table border=\"1\" class=\"dataframe\">\n",
       "  <thead>\n",
       "    <tr style=\"text-align: right;\">\n",
       "      <th></th>\n",
       "      <th>RESIDENTIAL UNITS</th>\n",
       "      <th>TOTAL UNITS</th>\n",
       "      <th>LAND SQUARE FEET</th>\n",
       "      <th>GROSS SQUARE FEET</th>\n",
       "      <th>TAX CLASS AT PRESENT_2</th>\n",
       "      <th>TAX CLASS AT PRESENT_2A</th>\n",
       "      <th>TAX CLASS AT PRESENT_2B</th>\n",
       "      <th>TAX CLASS AT TIME OF SALE_2</th>\n",
       "      <th>TAX CLASS AT TIME OF SALE_4</th>\n",
       "      <th>BOROUGH_NAME_Brooklyn</th>\n",
       "      <th>BOROUGH_NAME_Manhattan</th>\n",
       "      <th>BOROUGH_NAME_Queens</th>\n",
       "    </tr>\n",
       "  </thead>\n",
       "  <tbody>\n",
       "    <tr>\n",
       "      <th>0</th>\n",
       "      <td>5</td>\n",
       "      <td>5</td>\n",
       "      <td>1633</td>\n",
       "      <td>6440</td>\n",
       "      <td>0</td>\n",
       "      <td>1</td>\n",
       "      <td>0</td>\n",
       "      <td>1</td>\n",
       "      <td>0</td>\n",
       "      <td>0</td>\n",
       "      <td>1</td>\n",
       "      <td>0</td>\n",
       "    </tr>\n",
       "    <tr>\n",
       "      <th>1</th>\n",
       "      <td>10</td>\n",
       "      <td>10</td>\n",
       "      <td>2272</td>\n",
       "      <td>6794</td>\n",
       "      <td>0</td>\n",
       "      <td>0</td>\n",
       "      <td>1</td>\n",
       "      <td>1</td>\n",
       "      <td>0</td>\n",
       "      <td>0</td>\n",
       "      <td>1</td>\n",
       "      <td>0</td>\n",
       "    </tr>\n",
       "    <tr>\n",
       "      <th>2</th>\n",
       "      <td>6</td>\n",
       "      <td>6</td>\n",
       "      <td>2369</td>\n",
       "      <td>4615</td>\n",
       "      <td>0</td>\n",
       "      <td>1</td>\n",
       "      <td>0</td>\n",
       "      <td>1</td>\n",
       "      <td>0</td>\n",
       "      <td>0</td>\n",
       "      <td>1</td>\n",
       "      <td>0</td>\n",
       "    </tr>\n",
       "    <tr>\n",
       "      <th>3</th>\n",
       "      <td>8</td>\n",
       "      <td>8</td>\n",
       "      <td>1750</td>\n",
       "      <td>4226</td>\n",
       "      <td>0</td>\n",
       "      <td>0</td>\n",
       "      <td>1</td>\n",
       "      <td>1</td>\n",
       "      <td>0</td>\n",
       "      <td>0</td>\n",
       "      <td>1</td>\n",
       "      <td>0</td>\n",
       "    </tr>\n",
       "    <tr>\n",
       "      <th>4</th>\n",
       "      <td>24</td>\n",
       "      <td>24</td>\n",
       "      <td>4489</td>\n",
       "      <td>18523</td>\n",
       "      <td>1</td>\n",
       "      <td>0</td>\n",
       "      <td>0</td>\n",
       "      <td>1</td>\n",
       "      <td>0</td>\n",
       "      <td>0</td>\n",
       "      <td>1</td>\n",
       "      <td>0</td>\n",
       "    </tr>\n",
       "  </tbody>\n",
       "</table>\n",
       "</div>"
      ],
      "text/plain": [
       "   RESIDENTIAL UNITS  TOTAL UNITS  LAND SQUARE FEET  GROSS SQUARE FEET  \\\n",
       "0                  5            5              1633               6440   \n",
       "1                 10           10              2272               6794   \n",
       "2                  6            6              2369               4615   \n",
       "3                  8            8              1750               4226   \n",
       "4                 24           24              4489              18523   \n",
       "\n",
       "   TAX CLASS AT PRESENT_2  TAX CLASS AT PRESENT_2A  TAX CLASS AT PRESENT_2B  \\\n",
       "0                       0                        1                        0   \n",
       "1                       0                        0                        1   \n",
       "2                       0                        1                        0   \n",
       "3                       0                        0                        1   \n",
       "4                       1                        0                        0   \n",
       "\n",
       "   TAX CLASS AT TIME OF SALE_2  TAX CLASS AT TIME OF SALE_4  \\\n",
       "0                            1                            0   \n",
       "1                            1                            0   \n",
       "2                            1                            0   \n",
       "3                            1                            0   \n",
       "4                            1                            0   \n",
       "\n",
       "   BOROUGH_NAME_Brooklyn  BOROUGH_NAME_Manhattan  BOROUGH_NAME_Queens  \n",
       "0                      0                       1                    0  \n",
       "1                      0                       1                    0  \n",
       "2                      0                       1                    0  \n",
       "3                      0                       1                    0  \n",
       "4                      0                       1                    0  "
      ]
     },
     "execution_count": 30,
     "metadata": {},
     "output_type": "execute_result"
    }
   ],
   "source": [
    "X = pd.get_dummies(X, drop_first=True)\n",
    "selected_columns_all = [\n",
    "    'RESIDENTIAL UNITS', 'TOTAL UNITS', 'LAND SQUARE FEET', 'GROSS SQUARE FEET', \n",
    "    'TAX CLASS AT PRESENT_2', 'TAX CLASS AT PRESENT_2A', 'TAX CLASS AT PRESENT_2B', \n",
    "    'TAX CLASS AT TIME OF SALE_2', 'TAX CLASS AT TIME OF SALE_4', \n",
    "    'BOROUGH_NAME_Brooklyn', 'BOROUGH_NAME_Manhattan', 'BOROUGH_NAME_Queens']\n",
    "\n",
    "X = X[selected_columns_all]\n",
    "X.head()"
   ]
  },
  {
   "cell_type": "markdown",
   "metadata": {},
   "source": [
    "Now run the model"
   ]
  },
  {
   "cell_type": "code",
   "execution_count": 31,
   "metadata": {},
   "outputs": [],
   "source": [
    "def RMSE_Computation(test_y, pred):\n",
    "    # RMSE Computation\n",
    "    rmse = np.sqrt(MSE(test_y, pred))\n",
    "    print(\"RMSE : % f\" %(rmse))"
   ]
  },
  {
   "cell_type": "code",
   "execution_count": 32,
   "metadata": {},
   "outputs": [
    {
     "name": "stdout",
     "output_type": "stream",
     "text": [
      "RMSE :  12387351.181360\n"
     ]
    }
   ],
   "source": [
    "train_X, test_X, train_y, test_y = train_test_split(X, y, test_size = 0.3, random_state = 42)\n",
    "# create an xgboost regression model\n",
    "model = xg.XGBRegressor()\n",
    "# Instantiation\n",
    "xgb_r = xg.XGBRegressor(objective ='reg:squarederror', n_estimators = 1000, seed = 42)\n",
    " \n",
    "# Fitting the model\n",
    "xgb_r.fit(train_X, train_y)\n",
    " \n",
    "# Predict the model\n",
    "pred = xgb_r.predict(test_X)\n",
    "RMSE_Computation(test_y, pred)"
   ]
  },
  {
   "cell_type": "code",
   "execution_count": 33,
   "metadata": {},
   "outputs": [
    {
     "name": "stdout",
     "output_type": "stream",
     "text": [
      "[22:00:02] WARNING: C:/buildkite-agent/builds/buildkite-windows-cpu-autoscaling-group-i-03de431ba26204c4d-1/xgboost/xgboost-ci-windows/src/learner.cc:767: \n",
      "Parameters: { \"n_estimators\" } are not used.\n",
      "\n",
      "RMSE :  12361348.914571\n"
     ]
    },
    {
     "data": {
      "image/png": "[encoded data removed]",
      "text/plain": [
       "<Figure size 640x480 with 1 Axes>"
      ]
     },
     "metadata": {},
     "output_type": "display_data"
    }
   ],
   "source": [
    "# Train and test set are converted to DMatrix objects,\n",
    "# as it is required by learning API.\n",
    "train_dmatrix = xg.DMatrix(data = train_X, label = train_y)\n",
    "test_dmatrix = xg.DMatrix(data = test_X, label = test_y)\n",
    " \n",
    "# Parameter dictionary specifying base learner\n",
    "param = {\"booster\":\"gblinear\", \"objective\":\"reg:squarederror\", \"n_estimators\":\"1000\"}\n",
    "xgb_r = xg.train(params = param, dtrain = train_dmatrix, num_boost_round = 10)\n",
    "xg.plot_importance(xgb_r, ax=plt.gca())\n",
    "pred = xgb_r.predict(test_dmatrix)\n",
    "RMSE_Computation(test_y, pred)"
   ]
  },
  {
   "cell_type": "markdown",
   "metadata": {},
   "source": [
    "These results for XGBoost are very poor"
   ]
  },
  {
   "cell_type": "markdown",
   "metadata": {},
   "source": [
    "Lets try random forests"
   ]
  },
  {
   "cell_type": "code",
   "execution_count": 34,
   "metadata": {},
   "outputs": [],
   "source": [
    "from sklearn.ensemble import RandomForestRegressor\n",
    "from sklearn.datasets import make_regression"
   ]
  },
  {
   "cell_type": "code",
   "execution_count": 35,
   "metadata": {},
   "outputs": [
    {
     "name": "stdout",
     "output_type": "stream",
     "text": [
      "RMSE :  12096464.376761\n"
     ]
    }
   ],
   "source": [
    "train_X, test_X, train_y, test_y = train_test_split(X, y, test_size = 0.3, random_state = 42)\n",
    "regr = RandomForestRegressor(max_depth=2, random_state=42)\n",
    "\n",
    "regr.fit(train_X, train_y)\n",
    "pred = regr.predict(test_X)\n",
    "RMSE_Computation(test_y, pred)"
   ]
  },
  {
   "cell_type": "markdown",
   "metadata": {},
   "source": [
    "An RMSE of 12million is very poor. Curiously this is a slight improvement over XGBoost"
   ]
  },
  {
   "cell_type": "markdown",
   "metadata": {},
   "source": [
    "Now try SVR"
   ]
  },
  {
   "cell_type": "code",
   "execution_count": 36,
   "metadata": {},
   "outputs": [],
   "source": [
    "from sklearn.svm import SVR\n",
    "from sklearn.pipeline import make_pipeline\n",
    "from sklearn.preprocessing import StandardScaler"
   ]
  },
  {
   "cell_type": "code",
   "execution_count": 37,
   "metadata": {},
   "outputs": [
    {
     "name": "stdout",
     "output_type": "stream",
     "text": [
      "RMSE :  15952689.969350\n"
     ]
    }
   ],
   "source": [
    "regr = make_pipeline(StandardScaler(), SVR(C=1.0, epsilon=0.2))\n",
    "regr.fit(train_X, train_y)\n",
    "pred = regr.predict(test_X)\n",
    "RMSE_Computation(test_y, pred)"
   ]
  },
  {
   "cell_type": "markdown",
   "metadata": {},
   "source": [
    "An RMSE of 16million is the worst one so far."
   ]
  },
  {
   "cell_type": "markdown",
   "metadata": {},
   "source": [
    "Lets try decision trees"
   ]
  },
  {
   "cell_type": "code",
   "execution_count": 38,
   "metadata": {},
   "outputs": [],
   "source": [
    "from sklearn.tree import DecisionTreeRegressor"
   ]
  },
  {
   "cell_type": "code",
   "execution_count": 39,
   "metadata": {},
   "outputs": [
    {
     "name": "stdout",
     "output_type": "stream",
     "text": [
      "Decision Tree Regression for max depth=2\n",
      "RMSE :  11992887.742863\n",
      "Decision Tree Regression for max depth=5\n",
      "RMSE :  12798702.170192\n"
     ]
    }
   ],
   "source": [
    "# Fit regression model\n",
    "regr_1 = DecisionTreeRegressor(max_depth=2)\n",
    "regr_1.fit(train_X, train_y)\n",
    "pred = regr_1.predict(test_X)\n",
    "print(\"Decision Tree Regression for max depth=2\")\n",
    "RMSE_Computation(test_y, pred)\n",
    "\n",
    "regr_2 = DecisionTreeRegressor(max_depth=5)\n",
    "regr_2.fit(train_X, train_y)\n",
    "pred = regr_2.predict(test_X)\n",
    "print(\"Decision Tree Regression for max depth=5\")\n",
    "RMSE_Computation(test_y, pred)"
   ]
  },
  {
   "cell_type": "markdown",
   "metadata": {},
   "source": [
    "Decision Tree regression with a max depth of 2 has given the best results so far, but still very poor with an RMSE of just under 12million"
   ]
  },
  {
   "cell_type": "markdown",
   "metadata": {},
   "source": [
    "Now try Ridge regression"
   ]
  },
  {
   "cell_type": "code",
   "execution_count": 40,
   "metadata": {},
   "outputs": [],
   "source": [
    "from sklearn.linear_model import Ridge"
   ]
  },
  {
   "cell_type": "code",
   "execution_count": 41,
   "metadata": {},
   "outputs": [
    {
     "name": "stdout",
     "output_type": "stream",
     "text": [
      "RMSE :  14279726.233523\n"
     ]
    }
   ],
   "source": [
    "clf = Ridge(alpha=1.0)\n",
    "clf.fit(train_X, train_y)\n",
    "pred = clf.predict(test_X)\n",
    "RMSE_Computation(test_y, pred)"
   ]
  },
  {
   "cell_type": "markdown",
   "metadata": {},
   "source": [
    "Poor results for Ridge at 14million"
   ]
  },
  {
   "cell_type": "markdown",
   "metadata": {},
   "source": [
    "Now try Lasso"
   ]
  },
  {
   "cell_type": "code",
   "execution_count": 43,
   "metadata": {},
   "outputs": [],
   "source": [
    "from sklearn import linear_model"
   ]
  },
  {
   "cell_type": "code",
   "execution_count": 46,
   "metadata": {},
   "outputs": [
    {
     "name": "stdout",
     "output_type": "stream",
     "text": [
      "RMSE :  14281960.060552\n"
     ]
    }
   ],
   "source": [
    "clf = linear_model.Lasso(alpha=0.1, max_iter=100000)\n",
    "clf.fit(train_X, train_y)\n",
    "pred = clf.predict(test_X)\n",
    "RMSE_Computation(test_y, pred)"
   ]
  },
  {
   "cell_type": "markdown",
   "metadata": {},
   "source": [
    "Very similar results to Ridge"
   ]
  }
 ],
 "metadata": {
  "kernelspec": {
   "display_name": "Python 3.9.13 ('base')",
   "language": "python",
   "name": "python3"
  },
  "language_info": {
   "codemirror_mode": {
    "name": "ipython",
    "version": 3
   },
   "file_extension": ".py",
   "mimetype": "text/x-python",
   "name": "python",
   "nbconvert_exporter": "python",
   "pygments_lexer": "ipython3",
   "version": "3.9.13"
  },
  "orig_nbformat": 4,
  "vscode": {
   "interpreter": {
    "hash": "b41ba045e83f0be7a0a86cbeef029bed6bb1f3047ea5aef815a52ba8b6ba543c"
   }
  }
 },
 "nbformat": 4,
 "nbformat_minor": 2
}
