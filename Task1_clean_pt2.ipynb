{
 "cells": [
  {
   "cell_type": "markdown",
   "metadata": {},
   "source": [
    "Having dne the EDA, we need to remove the outliers for SALES PRICE and LAND SQUARE FEET"
   ]
  },
  {
   "cell_type": "code",
   "execution_count": 1,
   "metadata": {},
   "outputs": [],
   "source": [
    "from cleaner import CleanDS\n",
    "from openFile import OpenCleanFile\n",
    "from pathlib import Path\n",
    "import os"
   ]
  },
  {
   "cell_type": "code",
   "execution_count": 3,
   "metadata": {},
   "outputs": [
    {
     "name": "stdout",
     "output_type": "stream",
     "text": [
      "486 rows were deleted for SALE PRICE that were greater than 10000000, a reduction of 5.73%\n",
      "370 rows were deleted for LAND SQUARE FEET that were greater than 5000, a reduction of 4.36%\n"
     ]
    }
   ],
   "source": [
    "\n",
    "clean = OpenCleanFile()\n",
    "cleanDS = CleanDS(clean.df_housing)\n",
    "sale_limit = 10000000\n",
    "lsf_limit = 5000\n",
    "cleanDS.remove_outliers_greater_than(\"SALE PRICE\", sale_limit)\n",
    "cleanDS.remove_outliers_greater_than(\"LAND SQUARE FEET\", lsf_limit)"
   ]
  },
  {
   "cell_type": "code",
   "execution_count": 4,
   "metadata": {},
   "outputs": [
    {
     "name": "stdout",
     "output_type": "stream",
     "text": [
      "Saving 7626 rows to Files\\/cleaned_nyc-rolling-sales.csv\n"
     ]
    }
   ],
   "source": [
    "file_path = \"Files\\\\\"\n",
    "file = \"cleaned_nyc-rolling-sales.csv\"\n",
    "output_path = f'{file_path}/{file}'\n",
    "if os.path.exists(output_path):\n",
    "    os.remove(output_path)\n",
    "    \n",
    "print(f\"Saving {len(cleanDS.df_housing)} rows to {file}\")\n",
    "filepath = Path(output_path)\n",
    "clean.df_housing.to_csv(filepath)\n"
   ]
  },
  {
   "cell_type": "markdown",
   "metadata": {},
   "source": [
    "Having completed the cleaning of the data, now do the backward elimination in\n",
    "Task1_backward_elimination.ipynb"
   ]
  }
 ],
 "metadata": {
  "kernelspec": {
   "display_name": "Python 3.9.13 ('base')",
   "language": "python",
   "name": "python3"
  },
  "language_info": {
   "codemirror_mode": {
    "name": "ipython",
    "version": 3
   },
   "file_extension": ".py",
   "mimetype": "text/x-python",
   "name": "python",
   "nbconvert_exporter": "python",
   "pygments_lexer": "ipython3",
   "version": "3.9.13"
  },
  "orig_nbformat": 4,
  "vscode": {
   "interpreter": {
    "hash": "b41ba045e83f0be7a0a86cbeef029bed6bb1f3047ea5aef815a52ba8b6ba543c"
   }
  }
 },
 "nbformat": 4,
 "nbformat_minor": 2
}
